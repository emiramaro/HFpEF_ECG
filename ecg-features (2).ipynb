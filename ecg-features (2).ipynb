{
 "cells": [
  {
   "cell_type": "code",
   "execution_count": 2,
   "metadata": {
    "scrolled": true
   },
   "outputs": [],
   "source": [
    "# !pip install pyhrv\n",
    "# !pip install pyarrow\n",
    "# !pip install wfdb\n",
    "# !pip install biosppy\n",
    "# !pip install matplotlib\n",
    "# !pip install numpy\n",
    "# !pip install scipy\n",
    "# !pip install nolds\n",
    "# !pip install spectrum"
   ]
  },
  {
   "cell_type": "code",
   "execution_count": 3,
   "metadata": {},
   "outputs": [
    {
     "name": "stdout",
     "output_type": "stream",
     "text": [
      "Requirement already satisfied: cffi in /home/idies/miniconda3/lib/python3.8/site-packages (1.14.1)\n",
      "Requirement already satisfied: pycparser in /home/idies/miniconda3/lib/python3.8/site-packages (from cffi) (2.20)\n",
      "Requirement already up-to-date: platformdirs in /home/idies/miniconda3/lib/python3.8/site-packages (4.2.0)\n",
      "platformdirs                       4.2.0\n",
      "Requirement already up-to-date: easydev in /home/idies/miniconda3/lib/python3.8/site-packages (0.13.1)\n",
      "Requirement already satisfied, skipping upgrade: line-profiler<5.0.0,>=4.1.2 in /home/idies/miniconda3/lib/python3.8/site-packages (from easydev) (4.1.2)\n",
      "Requirement already satisfied, skipping upgrade: platformdirs<5.0.0,>=4.2.0 in /home/idies/miniconda3/lib/python3.8/site-packages (from easydev) (4.2.0)\n",
      "Requirement already satisfied, skipping upgrade: pexpect<5.0.0,>=4.9.0 in /home/idies/miniconda3/lib/python3.8/site-packages (from easydev) (4.9.0)\n",
      "Requirement already satisfied, skipping upgrade: colorama<0.5.0,>=0.4.6 in /home/idies/miniconda3/lib/python3.8/site-packages (from easydev) (0.4.6)\n",
      "Requirement already satisfied, skipping upgrade: colorlog<7.0.0,>=6.8.2 in /home/idies/miniconda3/lib/python3.8/site-packages (from easydev) (6.8.2)\n",
      "Requirement already satisfied, skipping upgrade: ptyprocess>=0.5 in /home/idies/miniconda3/lib/python3.8/site-packages (from pexpect<5.0.0,>=4.9.0->easydev) (0.6.0)\n"
     ]
    }
   ],
   "source": [
    "!pip install cffi\n",
    "!pip install --upgrade platformdirs\n",
    "!pip list | grep platformdirs\n",
    "!pip install --upgrade easydev"
   ]
  },
  {
   "cell_type": "code",
   "execution_count": 4,
   "metadata": {},
   "outputs": [],
   "source": [
    "# !pip install \"colorama>=0.4.6,<0.5.0\" --upgrade"
   ]
  },
  {
   "cell_type": "code",
   "execution_count": 5,
   "metadata": {},
   "outputs": [],
   "source": [
    "# !pip install --upgrade \"pexpect>=4.9.0,<5.0.0\""
   ]
  },
  {
   "cell_type": "code",
   "execution_count": 6,
   "metadata": {},
   "outputs": [],
   "source": [
    "# !pip uninstall numpy\n",
    "# !pip install \"numpy<1.20\"\n",
    "# !pip uninstall pandas\n",
    "# !pip install \"pandas==1.3.0\""
   ]
  },
  {
   "cell_type": "code",
   "execution_count": 7,
   "metadata": {},
   "outputs": [
    {
     "name": "stdout",
     "output_type": "stream",
     "text": [
      "1.19.5\n"
     ]
    }
   ],
   "source": [
    "import numpy as np\n",
    "print(np.__version__)"
   ]
  },
  {
   "cell_type": "code",
   "execution_count": 8,
   "metadata": {},
   "outputs": [
    {
     "name": "stdout",
     "output_type": "stream",
     "text": [
      "1.2.5\n"
     ]
    }
   ],
   "source": [
    "import pandas as pd\n",
    "print(pd.__version__)"
   ]
  },
  {
   "cell_type": "code",
   "execution_count": 9,
   "metadata": {},
   "outputs": [
    {
     "name": "stdout",
     "output_type": "stream",
     "text": [
      "4.9.0\n"
     ]
    }
   ],
   "source": [
    "import pexpect\n",
    "print(pexpect.__version__)"
   ]
  },
  {
   "cell_type": "code",
   "execution_count": 2,
   "metadata": {},
   "outputs": [],
   "source": [
    "from matplotlib.figure import Figure\n",
    "import json\n",
    "import pandas as pd\n",
    "import wfdb\n",
    "import matplotlib.pyplot as plt\n",
    "import numpy as np\n",
    "import math\n",
    "import biosppy\n",
    "import os\n",
    "import collections\n",
    "import warnings\n",
    "import numpy as np\n",
    "import pyarrow.parquet as pq"
   ]
  },
  {
   "cell_type": "code",
   "execution_count": 3,
   "metadata": {},
   "outputs": [],
   "source": [
    "import pyhrv\n",
    "import pyhrv.tools as tools\n",
    "import pyhrv.time_domain as td\n",
    "import pyhrv.frequency_domain as fd\n",
    "import pyhrv.nonlinear as nl"
   ]
  },
  {
   "cell_type": "code",
   "execution_count": 12,
   "metadata": {},
   "outputs": [],
   "source": [
    "import subprocess\n",
    "import getpass\n",
    "import os\n",
    "from SciServer import Authentication\n",
    "myUserName = Authentication.getKeystoneUserWithToken(Authentication.getToken()).userName\n",
    "passwd = \"westHopkins2442!\"\n",
    "\n",
    "userstring = \"username=\" + myUserName + \",workgroup=win,uid=idies,password=\" + passwd\n",
    "projectname = \"LCICM\"\n",
    "dir = \"//cloud.nas.jh.edu/sddesktop$/\" + projectname\n",
    "\n",
    "devnull = open(os.devnull, 'w')\n",
    "subprocess.run([\"sudo\", \"mkdir\", \"/home/idies/workspace/SAFE/\"], capture_output=False)\n",
    "subprocess.run([\"sudo\", \"chown\", \"idies:idies\", \"/home/idies/workspace/SAFE/\"], capture_output=False)\n",
    "try:\n",
    "    subprocess.run([\"sudo\", \"mount\", \"-t\", \"cifs\", dir, \"/home/idies/workspace/SAFE/\", \"-o\", userstring], stdout=devnull, stderr=devnull)\n",
    "except FileNotFoundError as e:\n",
    "    print(e)"
   ]
  },
  {
   "cell_type": "code",
   "execution_count": 13,
   "metadata": {},
   "outputs": [],
   "source": [
    "def calc_features_helper(ecg_data):\n",
    "    try:\n",
    "        # calculate R peaks and NNI\n",
    "        # NNI = normal to normal interval (between succesive R-peaks)\n",
    "        rpeaks = biosppy.signals.ecg.christov_segmenter(ecg_data, sampling_rate = 500)[0]\n",
    "        nni = tools.nn_intervals(rpeaks)\n",
    "\n",
    "        # calculate time domain, freq domain, nonlinear features\n",
    "        td_f = td.time_domain(nni).as_dict()\n",
    "        nl_f = nl.nonlinear(nni).as_dict()\n",
    "\n",
    "        # remove invalid vals\n",
    "        feat = collections.OrderedDict(list(td_f.items()) + list(nl_f.items()))\n",
    "        # keys that are known to produce inf or nan for our dataset\n",
    "        for k in [\"fft_bands\", \"lomb_bands\", \"ar_bands\", \"sdnn_index\", \"sdann\", \"sampen\", \"dfa_alpha1\", \"dfa_alpha1_beats\", \"dfa_alpha2\", \"dfa_alpha2_beats\", \"fft_plot\",\"nni_histogram\", \"lomb_plot\", \"ar_plot\", \"poincare_plot\", \"dfa_plot\", \"tachogram_plot\"]:\n",
    "            feat.pop(k, 0)\n",
    "        return feat\n",
    "    except Exception as e:\n",
    "        print(e)\n",
    "        pass"
   ]
  },
  {
   "cell_type": "code",
   "execution_count": 14,
   "metadata": {},
   "outputs": [],
   "source": [
    "def calc_features(ecg_path):\n",
    "    plt.ioff()\n",
    "    # ex ecg_path = \"SAFE/Databases/mimic-iv-ecg-parquet/10400173/06:57:00_13_01_2128_10400173.parquet\"\n",
    "    # get 12-lead data from stored parquet\n",
    "    ecg_raw = pq.read_table(ecg_path).to_pandas()\n",
    "\n",
    "    # initialize pd df that'll contain features for all leads\n",
    "    lead_features = {\"I\": calc_features_helper(pd.to_numeric(ecg_raw[\"I\"], errors = \"coerce\")),\n",
    "                    \"II\": calc_features_helper(pd.to_numeric(ecg_raw[\"II\"], errors = \"coerce\")),\n",
    "                    \"III\": calc_features_helper(pd.to_numeric(ecg_raw[\"III\"], errors = \"coerce\")),\n",
    "                    \"aVR\": calc_features_helper(pd.to_numeric(ecg_raw[\"aVR\"], errors = \"coerce\")),\n",
    "                    \"aVL\": calc_features_helper(pd.to_numeric(ecg_raw[\"aVL\"], errors = \"coerce\")),\n",
    "                    \"aVF\": calc_features_helper(pd.to_numeric(ecg_raw[\"aVF\"], errors = \"coerce\")),\n",
    "                    \"V1\": calc_features_helper(pd.to_numeric(ecg_raw[\"V1\"], errors = \"coerce\")),\n",
    "                    \"V2\": calc_features_helper(pd.to_numeric(ecg_raw[\"V2\"], errors = \"coerce\")),\n",
    "                    \"V3\": calc_features_helper(pd.to_numeric(ecg_raw[\"V3\"], errors = \"coerce\")),\n",
    "                    \"V4\": calc_features_helper(pd.to_numeric(ecg_raw[\"V4\"], errors = \"coerce\")),\n",
    "                    \"V5\": calc_features_helper(pd.to_numeric(ecg_raw[\"V5\"], errors = \"coerce\")),\n",
    "                    \"V6\": calc_features_helper(pd.to_numeric(ecg_raw[\"V6\"], errors = \"coerce\"))}\n",
    "    df = pd.DataFrame(lead_features)\n",
    "    return df"
   ]
  },
  {
   "cell_type": "code",
   "execution_count": 15,
   "metadata": {},
   "outputs": [
    {
     "data": {
      "text/plain": [
       "'/home/idies/workspace/Storage/msyaile1/persistent/ecg_extraction'"
      ]
     },
     "execution_count": 15,
     "metadata": {},
     "output_type": "execute_result"
    }
   ],
   "source": [
    "os.getcwd()"
   ]
  },
  {
   "cell_type": "code",
   "execution_count": 16,
   "metadata": {
    "scrolled": true
   },
   "outputs": [
    {
     "name": "stdout",
     "output_type": "stream",
     "text": [
      "                        I            II         III         aVR         aVL  \\\n",
      "nni_counter     13.000000     18.000000   13.000000   13.000000   13.000000   \n",
      "nni_mean       357.615385    257.333333  357.692308  357.615385  357.769231   \n",
      "nni_min        355.000000     68.000000  355.000000  339.000000  355.000000   \n",
      "nni_max        361.000000    365.000000  362.000000  375.000000  361.000000   \n",
      "hr_mean        167.782152    343.524957  167.746433  167.891721  167.711537   \n",
      "hr_min         166.204986    164.383562  165.745856  160.000000  166.204986   \n",
      "hr_max         169.014085    882.352941  169.014085  176.991150  169.014085   \n",
      "hr_std           0.865873    264.327361    0.902396    4.556056    1.013953   \n",
      "nni_diff_mean    1.500000    142.764706    1.666667   13.250000    2.500000   \n",
      "nni_diff_min     0.000000      3.000000    0.000000    2.000000    0.000000   \n",
      "nni_diff_max     4.000000    285.000000    5.000000   28.000000    5.000000   \n",
      "sdnn             1.850156    118.053328    1.931520    9.674179    2.166174   \n",
      "rmssd            1.870829    172.132473    2.081666   15.402922    2.886751   \n",
      "sdsd             1.167748     99.125255    1.302678    8.203381    1.507557   \n",
      "nn50             0.000000     13.000000    0.000000    0.000000    0.000000   \n",
      "pnn50            0.000000     76.470588    0.000000    0.000000    0.000000   \n",
      "nn20             0.000000     13.000000    0.000000    2.000000    0.000000   \n",
      "pnn20            0.000000     76.470588    0.000000   16.666667    0.000000   \n",
      "tinn_n         343.750000    335.937500  343.750000  335.937500  343.750000   \n",
      "tinn_m         359.375000    359.375000  359.375000  359.375000  359.375000   \n",
      "tinn            15.625000     23.437500   15.625000   23.437500   15.625000   \n",
      "tri_index        1.300000      6.000000    1.181818    2.166667    1.444444   \n",
      "sd1              1.301708    121.715975    1.467235   10.890076    2.037837   \n",
      "sd2              2.098280    109.224302    2.260777    7.683632    2.185813   \n",
      "sd_ratio         1.611943      0.897370    1.540842    0.705563    1.072614   \n",
      "ellipse_area     8.580783  41765.408333   10.420946  262.873802   13.993688   \n",
      "\n",
      "                      aVF          V1          V2          V3          V4  \\\n",
      "nni_counter     13.000000   13.000000   13.000000   13.000000   13.000000   \n",
      "nni_mean       357.615385  357.615385  357.692308  357.692308  357.692308   \n",
      "nni_min        355.000000  354.000000  354.000000  332.000000  354.000000   \n",
      "nni_max        361.000000  361.000000  361.000000  386.000000  361.000000   \n",
      "hr_mean        167.782953  167.783772  167.746858  168.011682  167.746658   \n",
      "hr_min         166.204986  166.204986  166.204986  155.440415  166.204986   \n",
      "hr_max         169.014085  169.491525  169.491525  180.722892  169.491525   \n",
      "hr_std           0.945693    1.022306    0.946163    6.974596    0.927021   \n",
      "nni_diff_mean    1.666667    2.416667    2.083333   17.500000    2.083333   \n",
      "nni_diff_min     0.000000    0.000000    1.000000    0.000000    0.000000   \n",
      "nni_diff_max     4.000000    4.000000    4.000000   53.000000    4.000000   \n",
      "sdnn             2.022311    2.180920    2.015962   15.013242    1.974192   \n",
      "rmssd            2.081666    2.692582    2.291288   25.706679    2.362908   \n",
      "sdsd             1.302678    1.240112    0.996205   19.667694    1.164500   \n",
      "nn50             0.000000    0.000000    0.000000    1.000000    0.000000   \n",
      "pnn50            0.000000    0.000000    0.000000    8.333333    0.000000   \n",
      "nn20             0.000000    0.000000    0.000000    6.000000    0.000000   \n",
      "pnn20            0.000000    0.000000    0.000000   50.000000    0.000000   \n",
      "tinn_n         343.750000  343.750000  343.750000  343.750000  343.750000   \n",
      "tinn_m         359.375000  359.375000  359.375000  359.375000  359.375000   \n",
      "tinn            15.625000   15.625000   15.625000   15.625000   15.625000   \n",
      "tri_index        1.300000    1.300000    1.300000    1.625000    1.181818   \n",
      "sd1              1.452966    1.895719    1.610512   18.175839    1.661450   \n",
      "sd2              2.306392    2.347428    2.238396   10.940496    2.123774   \n",
      "sd_ratio         1.587368    1.238278    1.389866    0.601925    1.278265   \n",
      "ellipse_area    10.527823   13.980285   11.325330  624.714129   11.085251   \n",
      "\n",
      "                       V5          V6  \n",
      "nni_counter     13.000000   13.000000  \n",
      "nni_mean       357.692308  357.615385  \n",
      "nni_min        354.000000  354.000000  \n",
      "nni_max        361.000000  361.000000  \n",
      "hr_mean        167.747460  167.783385  \n",
      "hr_min         166.204986  166.204986  \n",
      "hr_max         169.491525  169.491525  \n",
      "hr_std           1.002012    0.988816  \n",
      "nni_diff_mean    2.166667    1.666667  \n",
      "nni_diff_min     0.000000    0.000000  \n",
      "nni_diff_max     5.000000    5.000000  \n",
      "sdnn             2.136376    2.103111  \n",
      "rmssd            2.614065    2.380476  \n",
      "sdsd             1.527525    1.775251  \n",
      "nn50             0.000000    0.000000  \n",
      "pnn50            0.000000    0.000000  \n",
      "nn20             0.000000    0.000000  \n",
      "pnn20            0.000000    0.000000  \n",
      "tinn_n         343.750000  343.750000  \n",
      "tinn_m         359.375000  359.375000  \n",
      "tinn            15.625000   15.625000  \n",
      "tri_index        1.181818    1.181818  \n",
      "sd1              1.844662    1.679120  \n",
      "sd2              2.351123    2.412352  \n",
      "sd_ratio         1.274555    1.436677  \n",
      "ellipse_area    13.625171   12.725428  \n",
      "(26, 12)\n"
     ]
    }
   ],
   "source": [
    "import warnings\n",
    "# quick test of calc features\n",
    "warnings.filterwarnings(\"ignore\")\n",
    "df = calc_features(\"/home/idies/workspace/SAFE/Databases/mimic-iv-ecg-parquet/12839207/23:21:00_30_08_2164_12839207.parquet\")\n",
    "print (df)\n",
    "print(df.shape)"
   ]
  },
  {
   "cell_type": "code",
   "execution_count": 17,
   "metadata": {},
   "outputs": [],
   "source": [
    "def flatten_matrix(df, id):\n",
    "    reshaped = df.T.reset_index(drop=True)\n",
    "    flattened = reshaped.values.flatten().tolist()\n",
    "    flattened.insert(0, id)\n",
    "    res = pd.DataFrame([flattened], index=[0], columns=cols_name)\n",
    "    return res\n"
   ]
  },
  {
   "cell_type": "code",
   "execution_count": 18,
   "metadata": {},
   "outputs": [],
   "source": [
    "# # for HF positive patients\n",
    "# import csv\n",
    "\n",
    "# # import CSV w/ list of all HF positive patient IDs\n",
    "# pos_id = []\n",
    "# pos_csv = open(\"hf_pt_id.csv\", \"r\")\n",
    "# for row in pos_csv:\n",
    "#     pos_id.append(row[:])\n",
    "# pos_id = pos_id[1:]\n",
    "# print(len(set(pos_id)))\n",
    "\n",
    "# # 8598 total pos HF patients"
   ]
  },
  {
   "cell_type": "code",
   "execution_count": 19,
   "metadata": {
    "scrolled": true
   },
   "outputs": [],
   "source": [
    "# pos_id[0:5]"
   ]
  },
  {
   "cell_type": "code",
   "execution_count": 20,
   "metadata": {
    "scrolled": true
   },
   "outputs": [
    {
     "name": "stdout",
     "output_type": "stream",
     "text": [
      "21439\n",
      "['13:45:00_11_01_2110_18106347', '15:43:00_13_01_2110_16284044', '04:02:00_17_01_2110_18780420', '08:05:00_19_01_2110_13201095', '02:02:00_22_01_2110_16006168']\n"
     ]
    }
   ],
   "source": [
    "# for HF positive patients\n",
    "import csv\n",
    "\n",
    "# import CSV w/ list of all HF positive ECG IDs\n",
    "pos_ecg_id = []\n",
    "pos_ecg_csv = open(\"/home/idies/workspace/SAFE/hf_ecg_list_id.csv\", \"r\")\n",
    "for row in pos_ecg_csv:\n",
    "    row = row.strip()\n",
    "    pos_ecg_id.append(row)\n",
    "    \n",
    "pos_ecg_id = pos_ecg_id[1:]\n",
    "print(len(set(pos_ecg_id)))\n",
    "print(pos_ecg_id[0:5])\n",
    "# 5346 total pos HF patients' ECGs"
   ]
  },
  {
   "cell_type": "code",
   "execution_count": 21,
   "metadata": {},
   "outputs": [
    {
     "data": {
      "text/plain": [
       "['13:45:00_11_01_2110_18106347',\n",
       " '15:43:00_13_01_2110_16284044',\n",
       " '04:02:00_17_01_2110_18780420',\n",
       " '08:05:00_19_01_2110_13201095',\n",
       " '02:02:00_22_01_2110_16006168']"
      ]
     },
     "execution_count": 21,
     "metadata": {},
     "output_type": "execute_result"
    }
   ],
   "source": [
    "pos_ecg_id[0:5]"
   ]
  },
  {
   "cell_type": "code",
   "execution_count": 22,
   "metadata": {},
   "outputs": [],
   "source": [
    "# ignoring the warnings that get generated from features that aren't being used in our model\n",
    "warnings.filterwarnings(\"ignore\")\n",
    "\n",
    "# str_ex = \"SAFE/Databases/mimic-iv-ecg-parquet/10400173/06:57:00_13_01_2128_10400173.parquet\"\n",
    "\n"
   ]
  },
  {
   "cell_type": "code",
   "execution_count": 23,
   "metadata": {},
   "outputs": [
    {
     "name": "stdout",
     "output_type": "stream",
     "text": [
      "313\n"
     ]
    }
   ],
   "source": [
    "names = ['nni_counter', 'nni_mean', 'nni_min', 'nni_max', 'hr_mean', 'hr_min', 'hr_max', 'hr_std', 'nni_diff_mean', 'nni_diff_min', 'nni_diff_max', 'sdnn', 'rmssd', 'sdsd', 'nn50', 'pnn50', 'nn20', 'pnn20', 'tinn_n', 'tinn_m', 'tinn', 'tri_index', 'sd1', 'sd2', 'sd_ratio', 'ellipse_area']\n",
    "cols_name = [\"subject_id\"]\n",
    "count = 1\n",
    "while count != 13:\n",
    "    for name in names:\n",
    "        cols_name.append(name + \"_lead\" + str(count))\n",
    "    count+=1\n",
    "print(len(cols_name))"
   ]
  },
  {
   "cell_type": "code",
   "execution_count": 24,
   "metadata": {},
   "outputs": [
    {
     "name": "stdout",
     "output_type": "stream",
     "text": [
      "6.1.4\n"
     ]
    }
   ],
   "source": [
    "!jupyter notebook --version\n"
   ]
  },
  {
   "cell_type": "code",
   "execution_count": 25,
   "metadata": {},
   "outputs": [],
   "source": [
    "# (NOTE: Don't run this cell once extraction has started\n",
    "\n",
    "# initialize feature table\n",
    "# feature_table = pd.DataFrame([[0] * 313], columns=cols_name)\n",
    "# print(feature_table)\n",
    "# feature_table.to_csv(\"/home/idies/workspace/SAFE/new_advanced_ecg_features.csv\", index=False)"
   ]
  },
  {
   "cell_type": "code",
   "execution_count": 26,
   "metadata": {},
   "outputs": [],
   "source": [
    "# DON'T RUN ABOVE CELL"
   ]
  },
  {
   "cell_type": "code",
   "execution_count": 27,
   "metadata": {
    "scrolled": true
   },
   "outputs": [
    {
     "name": "stdout",
     "output_type": "stream",
     "text": [
      "['18106347', '16284044', '18780420', '13201095', '16006168']\n"
     ]
    }
   ],
   "source": [
    "base_dir = r'/home/idies/workspace/SAFE/Databases/ecg_preprocessed'\n",
    "extracted = []  # List of processed patient IDs to avoid reprocessing\n",
    "pt_id = []\n",
    "\n",
    "for filename in pos_ecg_id:\n",
    "    # Extract patient ID from the filename\n",
    "    pt_id.append(filename.split('_')[-1].split('.')[0].strip())  # Assumes patient ID is before the file extension and after the last underscore\n",
    "    \n",
    "print(pt_id[0:5])"
   ]
  },
  {
   "cell_type": "code",
   "execution_count": 28,
   "metadata": {},
   "outputs": [],
   "source": [
    "extracted = pd.read_csv(\"/home/idies/workspace/SAFE/new_advanced_ecg_features.csv\", usecols=[\"subject_id\"])"
   ]
  },
  {
   "cell_type": "code",
   "execution_count": 29,
   "metadata": {},
   "outputs": [
    {
     "name": "stdout",
     "output_type": "stream",
     "text": [
      "18695\n"
     ]
    }
   ],
   "source": [
    "extracted = extracted[\"subject_id\"].tolist()\n",
    "print(len(extracted))"
   ]
  },
  {
   "cell_type": "code",
   "execution_count": 38,
   "metadata": {
    "scrolled": true
   },
   "outputs": [
    {
     "name": "stdout",
     "output_type": "stream",
     "text": [
      "['15:43:00_13_01_2110_16284044', '14:12:00_28_02_2117_16982032', '09:46:00_25_06_2128_16281507', '17:14:00_19_03_2144_16289850', '08:44:00_17_01_2151_16285428']\n",
      "14\n"
     ]
    }
   ],
   "source": [
    "## ECG waveform not found for advance features extraction\n",
    "not_extracted = [item for item in pos_ecg_id if item not in extracted]\n",
    "print(not_extracted[0:5])\n",
    "print(len(not_extracted))"
   ]
  },
  {
   "cell_type": "code",
   "execution_count": 2,
   "metadata": {},
   "outputs": [
    {
     "name": "stdout",
     "output_type": "stream",
     "text": [
      "Total Memory: 157.42 GB\n",
      "Available Memory: 99.55 GB\n"
     ]
    }
   ],
   "source": [
    "import psutil\n",
    "\n",
    "# Get the memory usage in bytes\n",
    "memory_usage = psutil.virtual_memory()\n",
    "print(f\"Total Memory: {memory_usage.total / (1024**3):.2f} GB\")\n",
    "print(f\"Available Memory: {memory_usage.available / (1024**3):.2f} GB\")\n"
   ]
  },
  {
   "cell_type": "code",
   "execution_count": 3,
   "metadata": {},
   "outputs": [
    {
     "name": "stdout",
     "output_type": "stream",
     "text": [
      "Total Memory: 157.42 GB\n",
      "Available Memory: 99.55 GB\n",
      "Used Memory: 57.86 GB\n",
      "Used Memory (direct): 56.55 GB\n"
     ]
    }
   ],
   "source": [
    "import psutil\n",
    "\n",
    "# Get the memory usage in bytes\n",
    "memory_usage = psutil.virtual_memory()\n",
    "print(f\"Total Memory: {memory_usage.total / (1024**3):.2f} GB\")\n",
    "print(f\"Available Memory: {memory_usage.available / (1024**3):.2f} GB\")\n",
    "\n",
    "# Calculate used memory\n",
    "used_memory = memory_usage.total - memory_usage.available\n",
    "print(f\"Used Memory: {used_memory / (1024**3):.2f} GB\")\n",
    "\n",
    "# Alternatively, use the 'used' attribute\n",
    "print(f\"Used Memory (direct): {memory_usage.used / (1024**3):.2f} GB\")"
   ]
  },
  {
   "cell_type": "code",
   "execution_count": 4,
   "metadata": {},
   "outputs": [
    {
     "data": {
      "text/plain": [
       "54"
      ]
     },
     "execution_count": 4,
     "metadata": {},
     "output_type": "execute_result"
    }
   ],
   "source": [
    "import gc\n",
    "gc.collect()  # Force a garbage collection"
   ]
  },
  {
   "cell_type": "code",
   "execution_count": 16,
   "metadata": {},
   "outputs": [
    {
     "name": "stdout",
     "output_type": "stream",
     "text": [
      "Current Process Memory Usage: 0.20 GB\n"
     ]
    }
   ],
   "source": [
    "process = psutil.Process()\n",
    "print(f\"Current Process Memory Usage: {process.memory_info().rss / (1024**3):.2f} GB\")  # Resident Set Size"
   ]
  },
  {
   "cell_type": "code",
   "execution_count": 35,
   "metadata": {},
   "outputs": [],
   "source": [
    "# from tqdm import tqdm\n",
    "# import os\n",
    "# import pandas as pd\n",
    "# from concurrent.futures import ProcessPoolExecutor\n",
    "\n",
    "# # Assuming 'pos_ecg_id' and 'extracted' are defined\n",
    "# # Ensure 'calc_features' and 'flatten_matrix' are optimized for performance\n",
    "\n",
    "# base_dir = r'/home/idies/workspace/SAFE/ecg_preprocessed'\n",
    "# curr_table_path = \"/home/idies/workspace/SAFE/new_advanced_ecg_features.csv\"\n",
    "\n",
    "# # Function to process each file\n",
    "# def process_file(filename):\n",
    "#     file_path = os.path.join(base_dir, filename.strip())\n",
    "#     if os.path.exists(file_path) and filename not in extracted:\n",
    "#         features_full = calc_features(file_path)\n",
    "#         features = flatten_matrix(features_full, filename).fillna(value=np.nan)\n",
    "#         return features\n",
    "#     return None\n",
    "\n",
    "# # Initialize or load the existing table\n",
    "# if os.path.exists(curr_table_path):\n",
    "#     curr_table = pd.read_csv(curr_table_path)\n",
    "# else:\n",
    "#     curr_table = pd.DataFrame()\n",
    "\n",
    "# # Process files in parallel\n",
    "# with ProcessPoolExecutor() as executor:\n",
    "#     results = list(tqdm(executor.map(process_file, pos_ecg_id), total=len(pos_ecg_id)))\n",
    "\n",
    "# # Filter out None results and concatenate new features\n",
    "# new_features = pd.concat([res for res in results if res is not None], ignore_index=True)\n",
    "# new_table = pd.concat([curr_table, new_features])\n",
    "\n",
    "# # Save the updated table\n",
    "# new_table.to_csv(curr_table_path, index=False)\n"
   ]
  },
  {
   "cell_type": "code",
   "execution_count": 36,
   "metadata": {
    "scrolled": true
   },
   "outputs": [],
   "source": [
    "# from tqdm import tqdm\n",
    "# import os\n",
    "\n",
    "# base_dir = r'/home/idies/workspace/SAFE/ecg_preprocessed'\n",
    "# curr_table_path = \"/home/idies/workspace/SAFE/new_advanced_ecg_features.csv\"\n",
    "\n",
    "# # Assuming `pos_ecg_id` and `extracted` are defined somewhere in your code\n",
    "# # Make sure to also define or import `calc_features` and `flatten_matrix` functions\n",
    "\n",
    "# for filename in tqdm(pos_ecg_id):  # Wrap the loop with tqdm for a progress bar\n",
    "#     filename = filename.strip()  # Trim whitespace and ensure the filename is clean\n",
    "\n",
    "#     file_path = os.path.join(base_dir, filename)  # Construct the full file path\n",
    "\n",
    "#     # Only print the file path if needed for debugging, otherwise comment it out\n",
    "#     #print(f\"Checking file: {file_path}\")\n",
    "\n",
    "#     if os.path.exists(file_path) and filename not in extracted:\n",
    "#         # Uncomment the next line if you need to debug file processing\n",
    "#         #print(f\"Processing file: {file_path}\")\n",
    "\n",
    "#         features_full = calc_features(file_path)  # Extract features from the file\n",
    "\n",
    "#         features = flatten_matrix(features_full, filename)  # Flatten and clean the features\n",
    "#         features2 = features.fillna(value=np.nan)  # Handle NaN values\n",
    "\n",
    "#         # Read the current table, or initialize it if it doesn't exist\n",
    "#         if os.path.exists(curr_table_path):\n",
    "#             curr_table = pd.read_csv(curr_table_path)\n",
    "#         else:\n",
    "#             curr_table = pd.DataFrame()\n",
    "\n",
    "#         # Concatenate the new features and save the updated table\n",
    "#         new_table = pd.concat([curr_table, features2])\n",
    "#         new_table.to_csv(curr_table_path, index=False)\n",
    "\n",
    "#         # Uncomment the next line if you need to see the updated table shape for debugging\n",
    "#         # print(f\"Updated table shape: {new_table.shape}\")\n",
    "\n",
    "#         extracted.append(filename)  # Mark this ID as processed to avoid reprocessing\n"
   ]
  },
  {
   "cell_type": "code",
   "execution_count": 39,
   "metadata": {
    "scrolled": true
   },
   "outputs": [],
   "source": [
    "import os\n",
    "\n",
    "base_dir = r'/home/idies/workspace/SAFE/ecg_preprocessed'\n",
    "curr_table_path =  \"/home/idies/workspace/SAFE/new_advanced_ecg_features.csv\"\n",
    "\n",
    "for filename in pos_ecg_id:\n",
    "#     print(f\"Original filename from list: '{filename}'\")  # Debug print\n",
    "\n",
    "    # pt_id = filename.split('_')[-1].split('.')[0]  # Assumes patient ID is before the file extension and after the last underscore\n",
    "    # print(f\"Extracted pt_id: {pt_id}\")\n",
    "    \n",
    "    # pt_id = pt_id.strip()  # Ensure pt_id is also stripped of whitespace and newline characters\n",
    "    filename = filename.strip() # Trim whitespace and ensure the filename ends with '.parquet'\n",
    "#     print(f\"Extracted ecg: {filename}\")\n",
    "    \n",
    "    # if not filename.endswith(\".parquet\"):\n",
    "    #     filename += \".parquet\"\n",
    "    # print(f\"Processed filename: '{filename}'\") # Debug print to check the filename after processing\n",
    "    \n",
    "    file_path = os.path.join(base_dir, filename)  # Construct the full file path\n",
    "\n",
    "#  print({file_path})\n",
    "    \n",
    "    if os.path.exists(file_path) and filename not in extracted:\n",
    "        print(f\"Processing file: {file_path}\")\n",
    "\n",
    "        # Extract features from the file\n",
    "        features_full = calc_features(file_path)\n",
    "\n",
    "        # Flatten and clean the features\n",
    "        features = flatten_matrix(features_full, filename)\n",
    "        features2 = features.fillna(value=np.nan)\n",
    "\n",
    "        # Read the current table, or initialize it if it doesn't exist\n",
    "        if os.path.exists(curr_table_path):\n",
    "            curr_table = pd.read_csv(curr_table_path)\n",
    "        else:\n",
    "            curr_table = pd.DataFrame()\n",
    "\n",
    "        # Concatenate the new features and save the updated table\n",
    "        new_table = pd.concat([curr_table, features2])\n",
    "        new_table.to_csv(curr_table_path, index=False)\n",
    "#         print(f\"Updated table shape: {new_table.shape}\")\n",
    "\n",
    "        # Mark this ID as processed to avoid reprocessing\n",
    "        extracted.append(filename)\n",
    "\n",
    "# Note: Ensure `calc_features` and `flatten_matrix` functions are defined to handle file paths and extract the required features.\n"
   ]
  },
  {
   "cell_type": "code",
   "execution_count": 40,
   "metadata": {},
   "outputs": [
    {
     "data": {
      "text/html": [
       "<div>\n",
       "<style scoped>\n",
       "    .dataframe tbody tr th:only-of-type {\n",
       "        vertical-align: middle;\n",
       "    }\n",
       "\n",
       "    .dataframe tbody tr th {\n",
       "        vertical-align: top;\n",
       "    }\n",
       "\n",
       "    .dataframe thead th {\n",
       "        text-align: right;\n",
       "    }\n",
       "</style>\n",
       "<table border=\"1\" class=\"dataframe\">\n",
       "  <thead>\n",
       "    <tr style=\"text-align: right;\">\n",
       "      <th></th>\n",
       "      <th>formatted_time</th>\n",
       "      <th>hf</th>\n",
       "      <th>hf_type</th>\n",
       "      <th>label</th>\n",
       "    </tr>\n",
       "  </thead>\n",
       "  <tbody>\n",
       "    <tr>\n",
       "      <th>0</th>\n",
       "      <td>13:45:00_11_01_2110_18106347</td>\n",
       "      <td>0</td>\n",
       "      <td>Non-HF</td>\n",
       "      <td>Non-HF wo BNP</td>\n",
       "    </tr>\n",
       "    <tr>\n",
       "      <th>1</th>\n",
       "      <td>15:43:00_13_01_2110_16284044</td>\n",
       "      <td>0</td>\n",
       "      <td>Non-HF</td>\n",
       "      <td>Non-HF wo BNP</td>\n",
       "    </tr>\n",
       "    <tr>\n",
       "      <th>2</th>\n",
       "      <td>04:02:00_17_01_2110_18780420</td>\n",
       "      <td>0</td>\n",
       "      <td>Non-HF</td>\n",
       "      <td>Non-HF wo BNP</td>\n",
       "    </tr>\n",
       "    <tr>\n",
       "      <th>3</th>\n",
       "      <td>08:05:00_19_01_2110_13201095</td>\n",
       "      <td>0</td>\n",
       "      <td>Non-HF</td>\n",
       "      <td>Non-HF wo BNP</td>\n",
       "    </tr>\n",
       "    <tr>\n",
       "      <th>4</th>\n",
       "      <td>02:02:00_22_01_2110_16006168</td>\n",
       "      <td>0</td>\n",
       "      <td>Non-HF</td>\n",
       "      <td>Non-HF wo BNP</td>\n",
       "    </tr>\n",
       "  </tbody>\n",
       "</table>\n",
       "</div>"
      ],
      "text/plain": [
       "                 formatted_time  hf hf_type          label\n",
       "0  13:45:00_11_01_2110_18106347   0  Non-HF  Non-HF wo BNP\n",
       "1  15:43:00_13_01_2110_16284044   0  Non-HF  Non-HF wo BNP\n",
       "2  04:02:00_17_01_2110_18780420   0  Non-HF  Non-HF wo BNP\n",
       "3  08:05:00_19_01_2110_13201095   0  Non-HF  Non-HF wo BNP\n",
       "4  02:02:00_22_01_2110_16006168   0  Non-HF  Non-HF wo BNP"
      ]
     },
     "execution_count": 40,
     "metadata": {},
     "output_type": "execute_result"
    }
   ],
   "source": [
    "label_hash_map = pd.read_csv('/home/idies/workspace/SAFE/label_hash_map.csv')\n",
    "label_hash_map.head()"
   ]
  },
  {
   "cell_type": "code",
   "execution_count": 41,
   "metadata": {},
   "outputs": [
    {
     "name": "stdout",
     "output_type": "stream",
     "text": [
      "formatted_time    object\n",
      "hf                 int64\n",
      "hf_type           object\n",
      "label             object\n",
      "dtype: object\n"
     ]
    }
   ],
   "source": [
    "print(label_hash_map.dtypes)"
   ]
  },
  {
   "cell_type": "code",
   "execution_count": 13,
   "metadata": {},
   "outputs": [],
   "source": [
    "adv_features = pd.read_csv(\"/home/idies/workspace/SAFE/new_advanced_ecg_features.csv\")"
   ]
  },
  {
   "cell_type": "code",
   "execution_count": 47,
   "metadata": {
    "scrolled": true
   },
   "outputs": [
    {
     "data": {
      "text/html": [
       "<div>\n",
       "<style scoped>\n",
       "    .dataframe tbody tr th:only-of-type {\n",
       "        vertical-align: middle;\n",
       "    }\n",
       "\n",
       "    .dataframe tbody tr th {\n",
       "        vertical-align: top;\n",
       "    }\n",
       "\n",
       "    .dataframe thead th {\n",
       "        text-align: right;\n",
       "    }\n",
       "</style>\n",
       "<table border=\"1\" class=\"dataframe\">\n",
       "  <thead>\n",
       "    <tr style=\"text-align: right;\">\n",
       "      <th></th>\n",
       "      <th>subject_id</th>\n",
       "      <th>nni_counter_lead1</th>\n",
       "      <th>nni_mean_lead1</th>\n",
       "      <th>nni_min_lead1</th>\n",
       "      <th>nni_max_lead1</th>\n",
       "      <th>hr_mean_lead1</th>\n",
       "      <th>hr_min_lead1</th>\n",
       "      <th>hr_max_lead1</th>\n",
       "      <th>hr_std_lead1</th>\n",
       "      <th>nni_diff_mean_lead1</th>\n",
       "      <th>...</th>\n",
       "      <th>nn20_lead12</th>\n",
       "      <th>pnn20_lead12</th>\n",
       "      <th>tinn_n_lead12</th>\n",
       "      <th>tinn_m_lead12</th>\n",
       "      <th>tinn_lead12</th>\n",
       "      <th>tri_index_lead12</th>\n",
       "      <th>sd1_lead12</th>\n",
       "      <th>sd2_lead12</th>\n",
       "      <th>sd_ratio_lead12</th>\n",
       "      <th>ellipse_area_lead12</th>\n",
       "    </tr>\n",
       "  </thead>\n",
       "  <tbody>\n",
       "    <tr>\n",
       "      <th>0</th>\n",
       "      <td>0</td>\n",
       "      <td>0.0</td>\n",
       "      <td>0.000000</td>\n",
       "      <td>0.0</td>\n",
       "      <td>0.0</td>\n",
       "      <td>0.000000</td>\n",
       "      <td>0.000000</td>\n",
       "      <td>0.000000</td>\n",
       "      <td>0.000000</td>\n",
       "      <td>0.000000</td>\n",
       "      <td>...</td>\n",
       "      <td>0.0</td>\n",
       "      <td>0.000000</td>\n",
       "      <td>0.0000</td>\n",
       "      <td>0.0000</td>\n",
       "      <td>0.0000</td>\n",
       "      <td>0.00</td>\n",
       "      <td>0.000000</td>\n",
       "      <td>0.000000</td>\n",
       "      <td>0.000000</td>\n",
       "      <td>0.000000</td>\n",
       "    </tr>\n",
       "    <tr>\n",
       "      <th>1</th>\n",
       "      <td>13:45:00_11_01_2110_18106347</td>\n",
       "      <td>14.0</td>\n",
       "      <td>326.285714</td>\n",
       "      <td>325.0</td>\n",
       "      <td>328.0</td>\n",
       "      <td>183.889253</td>\n",
       "      <td>182.926829</td>\n",
       "      <td>184.615385</td>\n",
       "      <td>0.514127</td>\n",
       "      <td>0.923077</td>\n",
       "      <td>...</td>\n",
       "      <td>0.0</td>\n",
       "      <td>0.000000</td>\n",
       "      <td>0.0000</td>\n",
       "      <td>0.0000</td>\n",
       "      <td>0.0000</td>\n",
       "      <td>1.00</td>\n",
       "      <td>1.382477</td>\n",
       "      <td>0.860026</td>\n",
       "      <td>0.622091</td>\n",
       "      <td>3.735248</td>\n",
       "    </tr>\n",
       "    <tr>\n",
       "      <th>2</th>\n",
       "      <td>04:02:00_17_01_2110_18780420</td>\n",
       "      <td>8.0</td>\n",
       "      <td>536.375000</td>\n",
       "      <td>282.0</td>\n",
       "      <td>741.0</td>\n",
       "      <td>126.013995</td>\n",
       "      <td>80.971660</td>\n",
       "      <td>212.765957</td>\n",
       "      <td>52.425849</td>\n",
       "      <td>250.571429</td>\n",
       "      <td>...</td>\n",
       "      <td>6.0</td>\n",
       "      <td>85.714286</td>\n",
       "      <td>539.0625</td>\n",
       "      <td>554.6875</td>\n",
       "      <td>15.6250</td>\n",
       "      <td>4.00</td>\n",
       "      <td>205.980879</td>\n",
       "      <td>122.749953</td>\n",
       "      <td>0.595929</td>\n",
       "      <td>79432.478675</td>\n",
       "    </tr>\n",
       "    <tr>\n",
       "      <th>3</th>\n",
       "      <td>08:05:00_19_01_2110_13201095</td>\n",
       "      <td>20.0</td>\n",
       "      <td>242.700000</td>\n",
       "      <td>175.0</td>\n",
       "      <td>297.0</td>\n",
       "      <td>252.807839</td>\n",
       "      <td>202.020202</td>\n",
       "      <td>342.857143</td>\n",
       "      <td>41.515091</td>\n",
       "      <td>39.421053</td>\n",
       "      <td>...</td>\n",
       "      <td>13.0</td>\n",
       "      <td>68.421053</td>\n",
       "      <td>234.3750</td>\n",
       "      <td>273.4375</td>\n",
       "      <td>39.0625</td>\n",
       "      <td>4.00</td>\n",
       "      <td>34.453630</td>\n",
       "      <td>32.666959</td>\n",
       "      <td>0.948143</td>\n",
       "      <td>3535.847814</td>\n",
       "    </tr>\n",
       "    <tr>\n",
       "      <th>4</th>\n",
       "      <td>02:02:00_22_01_2110_16006168</td>\n",
       "      <td>14.0</td>\n",
       "      <td>342.428571</td>\n",
       "      <td>338.0</td>\n",
       "      <td>347.0</td>\n",
       "      <td>175.232180</td>\n",
       "      <td>172.910663</td>\n",
       "      <td>177.514793</td>\n",
       "      <td>1.574611</td>\n",
       "      <td>2.153846</td>\n",
       "      <td>...</td>\n",
       "      <td>0.0</td>\n",
       "      <td>0.000000</td>\n",
       "      <td>328.1250</td>\n",
       "      <td>343.7500</td>\n",
       "      <td>15.6250</td>\n",
       "      <td>1.75</td>\n",
       "      <td>2.190620</td>\n",
       "      <td>3.947136</td>\n",
       "      <td>1.801835</td>\n",
       "      <td>27.164332</td>\n",
       "    </tr>\n",
       "  </tbody>\n",
       "</table>\n",
       "<p>5 rows × 313 columns</p>\n",
       "</div>"
      ],
      "text/plain": [
       "                     subject_id  nni_counter_lead1  nni_mean_lead1  \\\n",
       "0                             0                0.0        0.000000   \n",
       "1  13:45:00_11_01_2110_18106347               14.0      326.285714   \n",
       "2  04:02:00_17_01_2110_18780420                8.0      536.375000   \n",
       "3  08:05:00_19_01_2110_13201095               20.0      242.700000   \n",
       "4  02:02:00_22_01_2110_16006168               14.0      342.428571   \n",
       "\n",
       "   nni_min_lead1  nni_max_lead1  hr_mean_lead1  hr_min_lead1  hr_max_lead1  \\\n",
       "0            0.0            0.0       0.000000      0.000000      0.000000   \n",
       "1          325.0          328.0     183.889253    182.926829    184.615385   \n",
       "2          282.0          741.0     126.013995     80.971660    212.765957   \n",
       "3          175.0          297.0     252.807839    202.020202    342.857143   \n",
       "4          338.0          347.0     175.232180    172.910663    177.514793   \n",
       "\n",
       "   hr_std_lead1  nni_diff_mean_lead1  ...  nn20_lead12  pnn20_lead12  \\\n",
       "0      0.000000             0.000000  ...          0.0      0.000000   \n",
       "1      0.514127             0.923077  ...          0.0      0.000000   \n",
       "2     52.425849           250.571429  ...          6.0     85.714286   \n",
       "3     41.515091            39.421053  ...         13.0     68.421053   \n",
       "4      1.574611             2.153846  ...          0.0      0.000000   \n",
       "\n",
       "   tinn_n_lead12  tinn_m_lead12  tinn_lead12  tri_index_lead12  sd1_lead12  \\\n",
       "0         0.0000         0.0000       0.0000              0.00    0.000000   \n",
       "1         0.0000         0.0000       0.0000              1.00    1.382477   \n",
       "2       539.0625       554.6875      15.6250              4.00  205.980879   \n",
       "3       234.3750       273.4375      39.0625              4.00   34.453630   \n",
       "4       328.1250       343.7500      15.6250              1.75    2.190620   \n",
       "\n",
       "   sd2_lead12  sd_ratio_lead12  ellipse_area_lead12  \n",
       "0    0.000000         0.000000             0.000000  \n",
       "1    0.860026         0.622091             3.735248  \n",
       "2  122.749953         0.595929         79432.478675  \n",
       "3   32.666959         0.948143          3535.847814  \n",
       "4    3.947136         1.801835            27.164332  \n",
       "\n",
       "[5 rows x 313 columns]"
      ]
     },
     "execution_count": 47,
     "metadata": {},
     "output_type": "execute_result"
    }
   ],
   "source": [
    "adv_features.head()"
   ]
  },
  {
   "cell_type": "code",
   "execution_count": 48,
   "metadata": {},
   "outputs": [
    {
     "data": {
      "text/plain": [
       "(21429, 313)"
      ]
     },
     "execution_count": 48,
     "metadata": {},
     "output_type": "execute_result"
    }
   ],
   "source": [
    "adv_features.shape"
   ]
  },
  {
   "cell_type": "code",
   "execution_count": 49,
   "metadata": {
    "scrolled": true
   },
   "outputs": [
    {
     "name": "stdout",
     "output_type": "stream",
     "text": [
      "['subject_id', 'nni_counter_lead1', 'nni_mean_lead1', 'nni_min_lead1', 'nni_max_lead1', 'hr_mean_lead1', 'hr_min_lead1', 'hr_max_lead1', 'hr_std_lead1', 'nni_diff_mean_lead1', 'nni_diff_min_lead1', 'nni_diff_max_lead1', 'sdnn_lead1', 'rmssd_lead1', 'sdsd_lead1', 'nn50_lead1', 'pnn50_lead1', 'nn20_lead1', 'pnn20_lead1', 'tinn_n_lead1', 'tinn_m_lead1', 'tinn_lead1', 'tri_index_lead1', 'sd1_lead1', 'sd2_lead1', 'sd_ratio_lead1', 'ellipse_area_lead1', 'nni_counter_lead2', 'nni_mean_lead2', 'nni_min_lead2', 'nni_max_lead2', 'hr_mean_lead2', 'hr_min_lead2', 'hr_max_lead2', 'hr_std_lead2', 'nni_diff_mean_lead2', 'nni_diff_min_lead2', 'nni_diff_max_lead2', 'sdnn_lead2', 'rmssd_lead2', 'sdsd_lead2', 'nn50_lead2', 'pnn50_lead2', 'nn20_lead2', 'pnn20_lead2', 'tinn_n_lead2', 'tinn_m_lead2', 'tinn_lead2', 'tri_index_lead2', 'sd1_lead2', 'sd2_lead2', 'sd_ratio_lead2', 'ellipse_area_lead2', 'nni_counter_lead3', 'nni_mean_lead3', 'nni_min_lead3', 'nni_max_lead3', 'hr_mean_lead3', 'hr_min_lead3', 'hr_max_lead3', 'hr_std_lead3', 'nni_diff_mean_lead3', 'nni_diff_min_lead3', 'nni_diff_max_lead3', 'sdnn_lead3', 'rmssd_lead3', 'sdsd_lead3', 'nn50_lead3', 'pnn50_lead3', 'nn20_lead3', 'pnn20_lead3', 'tinn_n_lead3', 'tinn_m_lead3', 'tinn_lead3', 'tri_index_lead3', 'sd1_lead3', 'sd2_lead3', 'sd_ratio_lead3', 'ellipse_area_lead3', 'nni_counter_lead4', 'nni_mean_lead4', 'nni_min_lead4', 'nni_max_lead4', 'hr_mean_lead4', 'hr_min_lead4', 'hr_max_lead4', 'hr_std_lead4', 'nni_diff_mean_lead4', 'nni_diff_min_lead4', 'nni_diff_max_lead4', 'sdnn_lead4', 'rmssd_lead4', 'sdsd_lead4', 'nn50_lead4', 'pnn50_lead4', 'nn20_lead4', 'pnn20_lead4', 'tinn_n_lead4', 'tinn_m_lead4', 'tinn_lead4', 'tri_index_lead4', 'sd1_lead4', 'sd2_lead4', 'sd_ratio_lead4', 'ellipse_area_lead4', 'nni_counter_lead5', 'nni_mean_lead5', 'nni_min_lead5', 'nni_max_lead5', 'hr_mean_lead5', 'hr_min_lead5', 'hr_max_lead5', 'hr_std_lead5', 'nni_diff_mean_lead5', 'nni_diff_min_lead5', 'nni_diff_max_lead5', 'sdnn_lead5', 'rmssd_lead5', 'sdsd_lead5', 'nn50_lead5', 'pnn50_lead5', 'nn20_lead5', 'pnn20_lead5', 'tinn_n_lead5', 'tinn_m_lead5', 'tinn_lead5', 'tri_index_lead5', 'sd1_lead5', 'sd2_lead5', 'sd_ratio_lead5', 'ellipse_area_lead5', 'nni_counter_lead6', 'nni_mean_lead6', 'nni_min_lead6', 'nni_max_lead6', 'hr_mean_lead6', 'hr_min_lead6', 'hr_max_lead6', 'hr_std_lead6', 'nni_diff_mean_lead6', 'nni_diff_min_lead6', 'nni_diff_max_lead6', 'sdnn_lead6', 'rmssd_lead6', 'sdsd_lead6', 'nn50_lead6', 'pnn50_lead6', 'nn20_lead6', 'pnn20_lead6', 'tinn_n_lead6', 'tinn_m_lead6', 'tinn_lead6', 'tri_index_lead6', 'sd1_lead6', 'sd2_lead6', 'sd_ratio_lead6', 'ellipse_area_lead6', 'nni_counter_lead7', 'nni_mean_lead7', 'nni_min_lead7', 'nni_max_lead7', 'hr_mean_lead7', 'hr_min_lead7', 'hr_max_lead7', 'hr_std_lead7', 'nni_diff_mean_lead7', 'nni_diff_min_lead7', 'nni_diff_max_lead7', 'sdnn_lead7', 'rmssd_lead7', 'sdsd_lead7', 'nn50_lead7', 'pnn50_lead7', 'nn20_lead7', 'pnn20_lead7', 'tinn_n_lead7', 'tinn_m_lead7', 'tinn_lead7', 'tri_index_lead7', 'sd1_lead7', 'sd2_lead7', 'sd_ratio_lead7', 'ellipse_area_lead7', 'nni_counter_lead8', 'nni_mean_lead8', 'nni_min_lead8', 'nni_max_lead8', 'hr_mean_lead8', 'hr_min_lead8', 'hr_max_lead8', 'hr_std_lead8', 'nni_diff_mean_lead8', 'nni_diff_min_lead8', 'nni_diff_max_lead8', 'sdnn_lead8', 'rmssd_lead8', 'sdsd_lead8', 'nn50_lead8', 'pnn50_lead8', 'nn20_lead8', 'pnn20_lead8', 'tinn_n_lead8', 'tinn_m_lead8', 'tinn_lead8', 'tri_index_lead8', 'sd1_lead8', 'sd2_lead8', 'sd_ratio_lead8', 'ellipse_area_lead8', 'nni_counter_lead9', 'nni_mean_lead9', 'nni_min_lead9', 'nni_max_lead9', 'hr_mean_lead9', 'hr_min_lead9', 'hr_max_lead9', 'hr_std_lead9', 'nni_diff_mean_lead9', 'nni_diff_min_lead9', 'nni_diff_max_lead9', 'sdnn_lead9', 'rmssd_lead9', 'sdsd_lead9', 'nn50_lead9', 'pnn50_lead9', 'nn20_lead9', 'pnn20_lead9', 'tinn_n_lead9', 'tinn_m_lead9', 'tinn_lead9', 'tri_index_lead9', 'sd1_lead9', 'sd2_lead9', 'sd_ratio_lead9', 'ellipse_area_lead9', 'nni_counter_lead10', 'nni_mean_lead10', 'nni_min_lead10', 'nni_max_lead10', 'hr_mean_lead10', 'hr_min_lead10', 'hr_max_lead10', 'hr_std_lead10', 'nni_diff_mean_lead10', 'nni_diff_min_lead10', 'nni_diff_max_lead10', 'sdnn_lead10', 'rmssd_lead10', 'sdsd_lead10', 'nn50_lead10', 'pnn50_lead10', 'nn20_lead10', 'pnn20_lead10', 'tinn_n_lead10', 'tinn_m_lead10', 'tinn_lead10', 'tri_index_lead10', 'sd1_lead10', 'sd2_lead10', 'sd_ratio_lead10', 'ellipse_area_lead10', 'nni_counter_lead11', 'nni_mean_lead11', 'nni_min_lead11', 'nni_max_lead11', 'hr_mean_lead11', 'hr_min_lead11', 'hr_max_lead11', 'hr_std_lead11', 'nni_diff_mean_lead11', 'nni_diff_min_lead11', 'nni_diff_max_lead11', 'sdnn_lead11', 'rmssd_lead11', 'sdsd_lead11', 'nn50_lead11', 'pnn50_lead11', 'nn20_lead11', 'pnn20_lead11', 'tinn_n_lead11', 'tinn_m_lead11', 'tinn_lead11', 'tri_index_lead11', 'sd1_lead11', 'sd2_lead11', 'sd_ratio_lead11', 'ellipse_area_lead11', 'nni_counter_lead12', 'nni_mean_lead12', 'nni_min_lead12', 'nni_max_lead12', 'hr_mean_lead12', 'hr_min_lead12', 'hr_max_lead12', 'hr_std_lead12', 'nni_diff_mean_lead12', 'nni_diff_min_lead12', 'nni_diff_max_lead12', 'sdnn_lead12', 'rmssd_lead12', 'sdsd_lead12', 'nn50_lead12', 'pnn50_lead12', 'nn20_lead12', 'pnn20_lead12', 'tinn_n_lead12', 'tinn_m_lead12', 'tinn_lead12', 'tri_index_lead12', 'sd1_lead12', 'sd2_lead12', 'sd_ratio_lead12', 'ellipse_area_lead12']\n"
     ]
    }
   ],
   "source": [
    "# Convert the Index object to a list and print it\n",
    "print(list(adv_features.columns))"
   ]
  },
  {
   "cell_type": "code",
   "execution_count": 50,
   "metadata": {
    "scrolled": true
   },
   "outputs": [],
   "source": [
    "adv_features_labeled = pd.merge(adv_features, label_hash_map[['formatted_time', 'hf', 'hf_type']], \\\n",
    "                                left_on='subject_id', right_on='formatted_time', how='inner')"
   ]
  },
  {
   "cell_type": "code",
   "execution_count": 51,
   "metadata": {},
   "outputs": [],
   "source": [
    "# Drop the 'formatted_time' column from the resulting DataFrame\n",
    "adv_features_labeled = adv_features_labeled.drop('formatted_time', axis=1)"
   ]
  },
  {
   "cell_type": "code",
   "execution_count": 52,
   "metadata": {},
   "outputs": [
    {
     "name": "stdout",
     "output_type": "stream",
     "text": [
      "['subject_id', 'nni_counter_lead1', 'nni_mean_lead1', 'nni_min_lead1', 'nni_max_lead1', 'hr_mean_lead1', 'hr_min_lead1', 'hr_max_lead1', 'hr_std_lead1', 'nni_diff_mean_lead1', 'nni_diff_min_lead1', 'nni_diff_max_lead1', 'sdnn_lead1', 'rmssd_lead1', 'sdsd_lead1', 'nn50_lead1', 'pnn50_lead1', 'nn20_lead1', 'pnn20_lead1', 'tinn_n_lead1', 'tinn_m_lead1', 'tinn_lead1', 'tri_index_lead1', 'sd1_lead1', 'sd2_lead1', 'sd_ratio_lead1', 'ellipse_area_lead1', 'nni_counter_lead2', 'nni_mean_lead2', 'nni_min_lead2', 'nni_max_lead2', 'hr_mean_lead2', 'hr_min_lead2', 'hr_max_lead2', 'hr_std_lead2', 'nni_diff_mean_lead2', 'nni_diff_min_lead2', 'nni_diff_max_lead2', 'sdnn_lead2', 'rmssd_lead2', 'sdsd_lead2', 'nn50_lead2', 'pnn50_lead2', 'nn20_lead2', 'pnn20_lead2', 'tinn_n_lead2', 'tinn_m_lead2', 'tinn_lead2', 'tri_index_lead2', 'sd1_lead2', 'sd2_lead2', 'sd_ratio_lead2', 'ellipse_area_lead2', 'nni_counter_lead3', 'nni_mean_lead3', 'nni_min_lead3', 'nni_max_lead3', 'hr_mean_lead3', 'hr_min_lead3', 'hr_max_lead3', 'hr_std_lead3', 'nni_diff_mean_lead3', 'nni_diff_min_lead3', 'nni_diff_max_lead3', 'sdnn_lead3', 'rmssd_lead3', 'sdsd_lead3', 'nn50_lead3', 'pnn50_lead3', 'nn20_lead3', 'pnn20_lead3', 'tinn_n_lead3', 'tinn_m_lead3', 'tinn_lead3', 'tri_index_lead3', 'sd1_lead3', 'sd2_lead3', 'sd_ratio_lead3', 'ellipse_area_lead3', 'nni_counter_lead4', 'nni_mean_lead4', 'nni_min_lead4', 'nni_max_lead4', 'hr_mean_lead4', 'hr_min_lead4', 'hr_max_lead4', 'hr_std_lead4', 'nni_diff_mean_lead4', 'nni_diff_min_lead4', 'nni_diff_max_lead4', 'sdnn_lead4', 'rmssd_lead4', 'sdsd_lead4', 'nn50_lead4', 'pnn50_lead4', 'nn20_lead4', 'pnn20_lead4', 'tinn_n_lead4', 'tinn_m_lead4', 'tinn_lead4', 'tri_index_lead4', 'sd1_lead4', 'sd2_lead4', 'sd_ratio_lead4', 'ellipse_area_lead4', 'nni_counter_lead5', 'nni_mean_lead5', 'nni_min_lead5', 'nni_max_lead5', 'hr_mean_lead5', 'hr_min_lead5', 'hr_max_lead5', 'hr_std_lead5', 'nni_diff_mean_lead5', 'nni_diff_min_lead5', 'nni_diff_max_lead5', 'sdnn_lead5', 'rmssd_lead5', 'sdsd_lead5', 'nn50_lead5', 'pnn50_lead5', 'nn20_lead5', 'pnn20_lead5', 'tinn_n_lead5', 'tinn_m_lead5', 'tinn_lead5', 'tri_index_lead5', 'sd1_lead5', 'sd2_lead5', 'sd_ratio_lead5', 'ellipse_area_lead5', 'nni_counter_lead6', 'nni_mean_lead6', 'nni_min_lead6', 'nni_max_lead6', 'hr_mean_lead6', 'hr_min_lead6', 'hr_max_lead6', 'hr_std_lead6', 'nni_diff_mean_lead6', 'nni_diff_min_lead6', 'nni_diff_max_lead6', 'sdnn_lead6', 'rmssd_lead6', 'sdsd_lead6', 'nn50_lead6', 'pnn50_lead6', 'nn20_lead6', 'pnn20_lead6', 'tinn_n_lead6', 'tinn_m_lead6', 'tinn_lead6', 'tri_index_lead6', 'sd1_lead6', 'sd2_lead6', 'sd_ratio_lead6', 'ellipse_area_lead6', 'nni_counter_lead7', 'nni_mean_lead7', 'nni_min_lead7', 'nni_max_lead7', 'hr_mean_lead7', 'hr_min_lead7', 'hr_max_lead7', 'hr_std_lead7', 'nni_diff_mean_lead7', 'nni_diff_min_lead7', 'nni_diff_max_lead7', 'sdnn_lead7', 'rmssd_lead7', 'sdsd_lead7', 'nn50_lead7', 'pnn50_lead7', 'nn20_lead7', 'pnn20_lead7', 'tinn_n_lead7', 'tinn_m_lead7', 'tinn_lead7', 'tri_index_lead7', 'sd1_lead7', 'sd2_lead7', 'sd_ratio_lead7', 'ellipse_area_lead7', 'nni_counter_lead8', 'nni_mean_lead8', 'nni_min_lead8', 'nni_max_lead8', 'hr_mean_lead8', 'hr_min_lead8', 'hr_max_lead8', 'hr_std_lead8', 'nni_diff_mean_lead8', 'nni_diff_min_lead8', 'nni_diff_max_lead8', 'sdnn_lead8', 'rmssd_lead8', 'sdsd_lead8', 'nn50_lead8', 'pnn50_lead8', 'nn20_lead8', 'pnn20_lead8', 'tinn_n_lead8', 'tinn_m_lead8', 'tinn_lead8', 'tri_index_lead8', 'sd1_lead8', 'sd2_lead8', 'sd_ratio_lead8', 'ellipse_area_lead8', 'nni_counter_lead9', 'nni_mean_lead9', 'nni_min_lead9', 'nni_max_lead9', 'hr_mean_lead9', 'hr_min_lead9', 'hr_max_lead9', 'hr_std_lead9', 'nni_diff_mean_lead9', 'nni_diff_min_lead9', 'nni_diff_max_lead9', 'sdnn_lead9', 'rmssd_lead9', 'sdsd_lead9', 'nn50_lead9', 'pnn50_lead9', 'nn20_lead9', 'pnn20_lead9', 'tinn_n_lead9', 'tinn_m_lead9', 'tinn_lead9', 'tri_index_lead9', 'sd1_lead9', 'sd2_lead9', 'sd_ratio_lead9', 'ellipse_area_lead9', 'nni_counter_lead10', 'nni_mean_lead10', 'nni_min_lead10', 'nni_max_lead10', 'hr_mean_lead10', 'hr_min_lead10', 'hr_max_lead10', 'hr_std_lead10', 'nni_diff_mean_lead10', 'nni_diff_min_lead10', 'nni_diff_max_lead10', 'sdnn_lead10', 'rmssd_lead10', 'sdsd_lead10', 'nn50_lead10', 'pnn50_lead10', 'nn20_lead10', 'pnn20_lead10', 'tinn_n_lead10', 'tinn_m_lead10', 'tinn_lead10', 'tri_index_lead10', 'sd1_lead10', 'sd2_lead10', 'sd_ratio_lead10', 'ellipse_area_lead10', 'nni_counter_lead11', 'nni_mean_lead11', 'nni_min_lead11', 'nni_max_lead11', 'hr_mean_lead11', 'hr_min_lead11', 'hr_max_lead11', 'hr_std_lead11', 'nni_diff_mean_lead11', 'nni_diff_min_lead11', 'nni_diff_max_lead11', 'sdnn_lead11', 'rmssd_lead11', 'sdsd_lead11', 'nn50_lead11', 'pnn50_lead11', 'nn20_lead11', 'pnn20_lead11', 'tinn_n_lead11', 'tinn_m_lead11', 'tinn_lead11', 'tri_index_lead11', 'sd1_lead11', 'sd2_lead11', 'sd_ratio_lead11', 'ellipse_area_lead11', 'nni_counter_lead12', 'nni_mean_lead12', 'nni_min_lead12', 'nni_max_lead12', 'hr_mean_lead12', 'hr_min_lead12', 'hr_max_lead12', 'hr_std_lead12', 'nni_diff_mean_lead12', 'nni_diff_min_lead12', 'nni_diff_max_lead12', 'sdnn_lead12', 'rmssd_lead12', 'sdsd_lead12', 'nn50_lead12', 'pnn50_lead12', 'nn20_lead12', 'pnn20_lead12', 'tinn_n_lead12', 'tinn_m_lead12', 'tinn_lead12', 'tri_index_lead12', 'sd1_lead12', 'sd2_lead12', 'sd_ratio_lead12', 'ellipse_area_lead12', 'hf', 'hf_type']\n"
     ]
    }
   ],
   "source": [
    "print(list(adv_features_labeled.columns))"
   ]
  },
  {
   "cell_type": "code",
   "execution_count": 53,
   "metadata": {},
   "outputs": [
    {
     "data": {
      "text/plain": [
       "21424"
      ]
     },
     "execution_count": 53,
     "metadata": {},
     "output_type": "execute_result"
    }
   ],
   "source": [
    "adv_features_labeled['subject_id'].nunique()"
   ]
  },
  {
   "cell_type": "code",
   "execution_count": 54,
   "metadata": {},
   "outputs": [],
   "source": [
    "# Specify the file path\n",
    "file_path = '/home/idies/workspace/SAFE/adv_features_labeled.csv'\n",
    "\n",
    "# Save the DataFrame to a CSV file with column names\n",
    "adv_features_labeled.to_csv(file_path, index=False)"
   ]
  },
  {
   "cell_type": "code",
   "execution_count": 10,
   "metadata": {},
   "outputs": [
    {
     "name": "stdout",
     "output_type": "stream",
     "text": [
      "[ 0.075  0.065  0.055 ... -0.02  -0.025 -0.025]\n"
     ]
    },
    {
     "data": {
      "image/png": "[encoded data removed]",
      "text/plain": [
       "<Figure size 432x288 with 1 Axes>"
      ]
     },
     "metadata": {
      "needs_background": "light"
     },
     "output_type": "display_data"
    }
   ],
   "source": [
    "# sanityabove ecg lead visualized\n",
    "# ecg_path = \"/home/idies/workspace/SAFE/Databases/mimic-iv-ecg-parquet/10400173/06:57:00_13_01_2128_10400173.parquet\"\n",
    "record = wfdb.rdrecord(\"/home/idies/workspace/SAFE/Databases/mimic-iv-ecg-diagnostic-electrocardiogram-matched-subset-1.0/files/p1040/p10400173/s43577400/43577400\")\n",
    "lead = record.p_signal[:, record.sig_name.index(\"I\")]\n",
    "print(lead)\n",
    "plt.plot(lead)\n",
    "plt.show()"
   ]
  },
  {
   "cell_type": "code",
   "execution_count": 11,
   "metadata": {},
   "outputs": [
    {
     "data": {
      "text/plain": [
       "array([[ 0.075, -0.05 , -0.12 , ...,  0.08 ,  0.14 ,  0.155],\n",
       "       [ 0.065, -0.06 , -0.12 , ...,  0.08 ,  0.135,  0.14 ],\n",
       "       [ 0.055, -0.065, -0.115, ...,  0.08 ,  0.13 ,  0.13 ],\n",
       "       ...,\n",
       "       [-0.02 , -0.03 , -0.005, ..., -0.04 , -0.035, -0.025],\n",
       "       [-0.025, -0.03 ,  0.   , ..., -0.04 , -0.035, -0.025],\n",
       "       [-0.025, -0.03 ,  0.   , ..., -0.04 , -0.04 , -0.025]])"
      ]
     },
     "execution_count": 11,
     "metadata": {},
     "output_type": "execute_result"
    }
   ],
   "source": [
    "record.p_signal[:, :]"
   ]
  },
  {
   "cell_type": "code",
   "execution_count": null,
   "metadata": {},
   "outputs": [],
   "source": []
  }
 ],
 "metadata": {
  "kernelspec": {
   "display_name": "Python 3",
   "language": "python",
   "name": "python3"
  },
  "language_info": {
   "codemirror_mode": {
    "name": "ipython",
    "version": 3
   },
   "file_extension": ".py",
   "mimetype": "text/x-python",
   "name": "python",
   "nbconvert_exporter": "python",
   "pygments_lexer": "ipython3",
   "version": "3.8.5"
  }
 },
 "nbformat": 4,
 "nbformat_minor": 4
}
